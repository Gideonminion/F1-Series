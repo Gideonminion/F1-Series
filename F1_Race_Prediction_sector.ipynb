{
  "nbformat": 4,
  "nbformat_minor": 0,
  "metadata": {
    "colab": {
      "provenance": []
    },
    "kernelspec": {
      "name": "python3",
      "display_name": "Python 3"
    },
    "language_info": {
      "name": "python"
    }
  },
  "cells": [
    {
      "cell_type": "code",
      "execution_count": 1,
      "metadata": {
        "colab": {
          "base_uri": "https://localhost:8080/"
        },
        "id": "TOjsBJ5Ppr8P",
        "outputId": "de6b40d0-9056-41dd-c984-5d634def34ab"
      },
      "outputs": [
        {
          "output_type": "stream",
          "name": "stdout",
          "text": [
            "Collecting fastf1\n",
            "  Downloading fastf1-3.6.0-py3-none-any.whl.metadata (4.6 kB)\n",
            "Requirement already satisfied: pandas in /usr/local/lib/python3.11/dist-packages (2.2.2)\n",
            "Requirement already satisfied: numpy in /usr/local/lib/python3.11/dist-packages (2.0.2)\n",
            "Requirement already satisfied: scikit-learn in /usr/local/lib/python3.11/dist-packages (1.6.1)\n",
            "Requirement already satisfied: matplotlib<4.0.0,>=3.5.1 in /usr/local/lib/python3.11/dist-packages (from fastf1) (3.10.0)\n",
            "Requirement already satisfied: python-dateutil in /usr/local/lib/python3.11/dist-packages (from fastf1) (2.9.0.post0)\n",
            "Collecting rapidfuzz (from fastf1)\n",
            "  Downloading rapidfuzz-3.13.0-cp311-cp311-manylinux_2_17_x86_64.manylinux2014_x86_64.whl.metadata (12 kB)\n",
            "Collecting requests-cache>=1.0.0 (from fastf1)\n",
            "  Downloading requests_cache-1.2.1-py3-none-any.whl.metadata (9.9 kB)\n",
            "Requirement already satisfied: requests>=2.28.1 in /usr/local/lib/python3.11/dist-packages (from fastf1) (2.32.3)\n",
            "Requirement already satisfied: scipy<2.0.0,>=1.8.1 in /usr/local/lib/python3.11/dist-packages (from fastf1) (1.16.1)\n",
            "Collecting timple>=0.1.6 (from fastf1)\n",
            "  Downloading timple-0.1.8-py3-none-any.whl.metadata (2.0 kB)\n",
            "Collecting websockets<14,>=10.3 (from fastf1)\n",
            "  Downloading websockets-13.1-cp311-cp311-manylinux_2_5_x86_64.manylinux1_x86_64.manylinux_2_17_x86_64.manylinux2014_x86_64.whl.metadata (6.8 kB)\n",
            "Requirement already satisfied: pytz>=2020.1 in /usr/local/lib/python3.11/dist-packages (from pandas) (2025.2)\n",
            "Requirement already satisfied: tzdata>=2022.7 in /usr/local/lib/python3.11/dist-packages (from pandas) (2025.2)\n",
            "Requirement already satisfied: joblib>=1.2.0 in /usr/local/lib/python3.11/dist-packages (from scikit-learn) (1.5.1)\n",
            "Requirement already satisfied: threadpoolctl>=3.1.0 in /usr/local/lib/python3.11/dist-packages (from scikit-learn) (3.6.0)\n",
            "Requirement already satisfied: contourpy>=1.0.1 in /usr/local/lib/python3.11/dist-packages (from matplotlib<4.0.0,>=3.5.1->fastf1) (1.3.3)\n",
            "Requirement already satisfied: cycler>=0.10 in /usr/local/lib/python3.11/dist-packages (from matplotlib<4.0.0,>=3.5.1->fastf1) (0.12.1)\n",
            "Requirement already satisfied: fonttools>=4.22.0 in /usr/local/lib/python3.11/dist-packages (from matplotlib<4.0.0,>=3.5.1->fastf1) (4.59.0)\n",
            "Requirement already satisfied: kiwisolver>=1.3.1 in /usr/local/lib/python3.11/dist-packages (from matplotlib<4.0.0,>=3.5.1->fastf1) (1.4.8)\n",
            "Requirement already satisfied: packaging>=20.0 in /usr/local/lib/python3.11/dist-packages (from matplotlib<4.0.0,>=3.5.1->fastf1) (25.0)\n",
            "Requirement already satisfied: pillow>=8 in /usr/local/lib/python3.11/dist-packages (from matplotlib<4.0.0,>=3.5.1->fastf1) (11.3.0)\n",
            "Requirement already satisfied: pyparsing>=2.3.1 in /usr/local/lib/python3.11/dist-packages (from matplotlib<4.0.0,>=3.5.1->fastf1) (3.2.3)\n",
            "Requirement already satisfied: six>=1.5 in /usr/local/lib/python3.11/dist-packages (from python-dateutil->fastf1) (1.17.0)\n",
            "Requirement already satisfied: charset-normalizer<4,>=2 in /usr/local/lib/python3.11/dist-packages (from requests>=2.28.1->fastf1) (3.4.2)\n",
            "Requirement already satisfied: idna<4,>=2.5 in /usr/local/lib/python3.11/dist-packages (from requests>=2.28.1->fastf1) (3.10)\n",
            "Requirement already satisfied: urllib3<3,>=1.21.1 in /usr/local/lib/python3.11/dist-packages (from requests>=2.28.1->fastf1) (2.5.0)\n",
            "Requirement already satisfied: certifi>=2017.4.17 in /usr/local/lib/python3.11/dist-packages (from requests>=2.28.1->fastf1) (2025.8.3)\n",
            "Requirement already satisfied: attrs>=21.2 in /usr/local/lib/python3.11/dist-packages (from requests-cache>=1.0.0->fastf1) (25.3.0)\n",
            "Collecting cattrs>=22.2 (from requests-cache>=1.0.0->fastf1)\n",
            "  Downloading cattrs-25.1.1-py3-none-any.whl.metadata (8.4 kB)\n",
            "Requirement already satisfied: platformdirs>=2.5 in /usr/local/lib/python3.11/dist-packages (from requests-cache>=1.0.0->fastf1) (4.3.8)\n",
            "Collecting url-normalize>=1.4 (from requests-cache>=1.0.0->fastf1)\n",
            "  Downloading url_normalize-2.2.1-py3-none-any.whl.metadata (5.6 kB)\n",
            "Requirement already satisfied: typing-extensions>=4.12.2 in /usr/local/lib/python3.11/dist-packages (from cattrs>=22.2->requests-cache>=1.0.0->fastf1) (4.14.1)\n",
            "Downloading fastf1-3.6.0-py3-none-any.whl (148 kB)\n",
            "\u001b[2K   \u001b[90m━━━━━━━━━━━━━━━━━━━━━━━━━━━━━━━━━━━━━━━━\u001b[0m \u001b[32m148.4/148.4 kB\u001b[0m \u001b[31m2.4 MB/s\u001b[0m eta \u001b[36m0:00:00\u001b[0m\n",
            "\u001b[?25hDownloading requests_cache-1.2.1-py3-none-any.whl (61 kB)\n",
            "\u001b[2K   \u001b[90m━━━━━━━━━━━━━━━━━━━━━━━━━━━━━━━━━━━━━━━━\u001b[0m \u001b[32m61.4/61.4 kB\u001b[0m \u001b[31m3.5 MB/s\u001b[0m eta \u001b[36m0:00:00\u001b[0m\n",
            "\u001b[?25hDownloading timple-0.1.8-py3-none-any.whl (17 kB)\n",
            "Downloading websockets-13.1-cp311-cp311-manylinux_2_5_x86_64.manylinux1_x86_64.manylinux_2_17_x86_64.manylinux2014_x86_64.whl (164 kB)\n",
            "\u001b[2K   \u001b[90m━━━━━━━━━━━━━━━━━━━━━━━━━━━━━━━━━━━━━━━━\u001b[0m \u001b[32m164.8/164.8 kB\u001b[0m \u001b[31m8.3 MB/s\u001b[0m eta \u001b[36m0:00:00\u001b[0m\n",
            "\u001b[?25hDownloading rapidfuzz-3.13.0-cp311-cp311-manylinux_2_17_x86_64.manylinux2014_x86_64.whl (3.1 MB)\n",
            "\u001b[2K   \u001b[90m━━━━━━━━━━━━━━━━━━━━━━━━━━━━━━━━━━━━━━━━\u001b[0m \u001b[32m3.1/3.1 MB\u001b[0m \u001b[31m47.5 MB/s\u001b[0m eta \u001b[36m0:00:00\u001b[0m\n",
            "\u001b[?25hDownloading cattrs-25.1.1-py3-none-any.whl (69 kB)\n",
            "\u001b[2K   \u001b[90m━━━━━━━━━━━━━━━━━━━━━━━━━━━━━━━━━━━━━━━━\u001b[0m \u001b[32m69.4/69.4 kB\u001b[0m \u001b[31m3.2 MB/s\u001b[0m eta \u001b[36m0:00:00\u001b[0m\n",
            "\u001b[?25hDownloading url_normalize-2.2.1-py3-none-any.whl (14 kB)\n",
            "Installing collected packages: websockets, url-normalize, rapidfuzz, cattrs, requests-cache, timple, fastf1\n",
            "  Attempting uninstall: websockets\n",
            "    Found existing installation: websockets 15.0.1\n",
            "    Uninstalling websockets-15.0.1:\n",
            "      Successfully uninstalled websockets-15.0.1\n",
            "\u001b[31mERROR: pip's dependency resolver does not currently take into account all the packages that are installed. This behaviour is the source of the following dependency conflicts.\n",
            "dataproc-spark-connect 0.8.3 requires websockets>=14.0, but you have websockets 13.1 which is incompatible.\u001b[0m\u001b[31m\n",
            "\u001b[0mSuccessfully installed cattrs-25.1.1 fastf1-3.6.0 rapidfuzz-3.13.0 requests-cache-1.2.1 timple-0.1.8 url-normalize-2.2.1 websockets-13.1\n"
          ]
        }
      ],
      "source": [
        "pip install fastf1 pandas numpy scikit-learn"
      ]
    },
    {
      "cell_type": "code",
      "source": [
        "import fastf1\n",
        "import pandas as pd\n",
        "import numpy as np\n",
        "from sklearn.model_selection import train_test_split\n",
        "from sklearn.ensemble import GradientBoostingRegressor\n",
        "from sklearn.metrics import mean_absolute_error"
      ],
      "metadata": {
        "id": "wVjERE-6pw3C"
      },
      "execution_count": 2,
      "outputs": []
    },
    {
      "cell_type": "code",
      "source": [
        "import os\n",
        "os.makedirs(\"f1_cache\", exist_ok=True)   # This creates the directory if it does not exist\n",
        "fastf1.Cache.enable_cache(\"f1_cache\")    # Now enable the cache\n",
        "# speed up repeated access to race data\n",
        "fastf1.Cache.enable_cache(\"f1_cache\")"
      ],
      "metadata": {
        "id": "xObliC-Bpy8h"
      },
      "execution_count": 3,
      "outputs": []
    },
    {
      "cell_type": "code",
      "source": [
        "session_2024 = fastf1.get_session(2024, \"China\", \"R\")\n",
        "session_2024.load()"
      ],
      "metadata": {
        "colab": {
          "base_uri": "https://localhost:8080/"
        },
        "id": "31xrfvpNp28X",
        "outputId": "b208fde6-1faa-4a5b-9d9d-4e489b888aed"
      },
      "execution_count": 4,
      "outputs": [
        {
          "output_type": "stream",
          "name": "stderr",
          "text": [
            "core           INFO \tLoading data for Chinese Grand Prix - Race [v3.6.0]\n",
            "INFO:fastf1.fastf1.core:Loading data for Chinese Grand Prix - Race [v3.6.0]\n",
            "req            INFO \tNo cached data found for session_info. Loading data...\n",
            "INFO:fastf1.fastf1.req:No cached data found for session_info. Loading data...\n",
            "_api           INFO \tFetching session info data...\n",
            "INFO:fastf1.api:Fetching session info data...\n",
            "req            INFO \tData has been written to cache!\n",
            "INFO:fastf1.fastf1.req:Data has been written to cache!\n",
            "req            INFO \tNo cached data found for driver_info. Loading data...\n",
            "INFO:fastf1.fastf1.req:No cached data found for driver_info. Loading data...\n",
            "_api           INFO \tFetching driver list...\n",
            "INFO:fastf1.api:Fetching driver list...\n",
            "req            INFO \tData has been written to cache!\n",
            "INFO:fastf1.fastf1.req:Data has been written to cache!\n",
            "req            INFO \tNo cached data found for session_status_data. Loading data...\n",
            "INFO:fastf1.fastf1.req:No cached data found for session_status_data. Loading data...\n",
            "_api           INFO \tFetching session status data...\n",
            "INFO:fastf1.api:Fetching session status data...\n",
            "req            INFO \tData has been written to cache!\n",
            "INFO:fastf1.fastf1.req:Data has been written to cache!\n",
            "req            INFO \tNo cached data found for lap_count. Loading data...\n",
            "INFO:fastf1.fastf1.req:No cached data found for lap_count. Loading data...\n",
            "_api           INFO \tFetching lap count data...\n",
            "INFO:fastf1.api:Fetching lap count data...\n",
            "req            INFO \tData has been written to cache!\n",
            "INFO:fastf1.fastf1.req:Data has been written to cache!\n",
            "req            INFO \tNo cached data found for track_status_data. Loading data...\n",
            "INFO:fastf1.fastf1.req:No cached data found for track_status_data. Loading data...\n",
            "_api           INFO \tFetching track status data...\n",
            "INFO:fastf1.api:Fetching track status data...\n",
            "req            INFO \tData has been written to cache!\n",
            "INFO:fastf1.fastf1.req:Data has been written to cache!\n",
            "req            INFO \tNo cached data found for _extended_timing_data. Loading data...\n",
            "INFO:fastf1.fastf1.req:No cached data found for _extended_timing_data. Loading data...\n",
            "_api           INFO \tFetching timing data...\n",
            "INFO:fastf1.api:Fetching timing data...\n",
            "_api           INFO \tParsing timing data...\n",
            "INFO:fastf1.api:Parsing timing data...\n",
            "req            INFO \tData has been written to cache!\n",
            "INFO:fastf1.fastf1.req:Data has been written to cache!\n",
            "req            INFO \tNo cached data found for timing_app_data. Loading data...\n",
            "INFO:fastf1.fastf1.req:No cached data found for timing_app_data. Loading data...\n",
            "_api           INFO \tFetching timing app data...\n",
            "INFO:fastf1.api:Fetching timing app data...\n",
            "req            INFO \tData has been written to cache!\n",
            "INFO:fastf1.fastf1.req:Data has been written to cache!\n",
            "core           INFO \tProcessing timing data...\n",
            "INFO:fastf1.fastf1.core:Processing timing data...\n",
            "req            INFO \tNo cached data found for car_data. Loading data...\n",
            "INFO:fastf1.fastf1.req:No cached data found for car_data. Loading data...\n",
            "_api           INFO \tFetching car data...\n",
            "INFO:fastf1.api:Fetching car data...\n",
            "_api           INFO \tParsing car data...\n",
            "INFO:fastf1.api:Parsing car data...\n",
            "req            INFO \tData has been written to cache!\n",
            "INFO:fastf1.fastf1.req:Data has been written to cache!\n",
            "req            INFO \tNo cached data found for position_data. Loading data...\n",
            "INFO:fastf1.fastf1.req:No cached data found for position_data. Loading data...\n",
            "_api           INFO \tFetching position data...\n",
            "INFO:fastf1.api:Fetching position data...\n",
            "_api           INFO \tParsing position data...\n",
            "INFO:fastf1.api:Parsing position data...\n",
            "_api        WARNING \tDriver 241: Position data is incomplete!\n",
            "WARNING:fastf1.api:Driver 241: Position data is incomplete!\n",
            "_api        WARNING \tDriver 242: Position data is incomplete!\n",
            "WARNING:fastf1.api:Driver 242: Position data is incomplete!\n",
            "_api        WARNING \tDriver 243: Position data is incomplete!\n",
            "WARNING:fastf1.api:Driver 243: Position data is incomplete!\n",
            "req            INFO \tData has been written to cache!\n",
            "INFO:fastf1.fastf1.req:Data has been written to cache!\n",
            "req            INFO \tNo cached data found for weather_data. Loading data...\n",
            "INFO:fastf1.fastf1.req:No cached data found for weather_data. Loading data...\n",
            "_api           INFO \tFetching weather data...\n",
            "INFO:fastf1.api:Fetching weather data...\n",
            "req            INFO \tData has been written to cache!\n",
            "INFO:fastf1.fastf1.req:Data has been written to cache!\n",
            "req            INFO \tNo cached data found for race_control_messages. Loading data...\n",
            "INFO:fastf1.fastf1.req:No cached data found for race_control_messages. Loading data...\n",
            "_api           INFO \tFetching race control messages...\n",
            "INFO:fastf1.api:Fetching race control messages...\n",
            "req            INFO \tData has been written to cache!\n",
            "INFO:fastf1.fastf1.req:Data has been written to cache!\n",
            "core        WARNING \tDriver 1 completed the race distance 00:08.313000 before the recorded end of the session.\n",
            "WARNING:fastf1.fastf1.core:Driver 1 completed the race distance 00:08.313000 before the recorded end of the session.\n",
            "core           INFO \tFinished loading data for 20 drivers: ['1', '4', '11', '16', '55', '63', '14', '81', '44', '27', '31', '23', '10', '24', '18', '20', '2', '3', '22', '77']\n",
            "INFO:fastf1.fastf1.core:Finished loading data for 20 drivers: ['1', '4', '11', '16', '55', '63', '14', '81', '44', '27', '31', '23', '10', '24', '18', '20', '2', '3', '22', '77']\n"
          ]
        }
      ]
    },
    {
      "cell_type": "code",
      "source": [
        "# extract lap and sector time\n",
        "laps_2024 = session_2024.laps[[\"Driver\", \"LapTime\", \"Sector1Time\", \"Sector2Time\", \"Sector3Time\"]].copy()\n",
        "print(\"📊 Raw lap data:\")\n",
        "print(laps_2024.head())"
      ],
      "metadata": {
        "colab": {
          "base_uri": "https://localhost:8080/"
        },
        "id": "nUCTvWN5p7vN",
        "outputId": "31272a96-8b99-4833-b559-a64eb09f80ba"
      },
      "execution_count": 5,
      "outputs": [
        {
          "output_type": "stream",
          "name": "stdout",
          "text": [
            "📊 Raw lap data:\n",
            "  Driver                LapTime            Sector1Time            Sector2Time  \\\n",
            "0    VER 0 days 00:01:41.528000                    NaT 0 days 00:00:29.650000   \n",
            "1    VER 0 days 00:01:40.103000 0 days 00:00:26.651000 0 days 00:00:30.091000   \n",
            "2    VER 0 days 00:01:40.494000 0 days 00:00:27.011000 0 days 00:00:30.190000   \n",
            "3    VER 0 days 00:01:40.573000 0 days 00:00:26.923000 0 days 00:00:30.187000   \n",
            "4    VER 0 days 00:01:40.919000 0 days 00:00:27.106000 0 days 00:00:30.299000   \n",
            "\n",
            "             Sector3Time  \n",
            "0 0 days 00:00:43.295000  \n",
            "1 0 days 00:00:43.361000  \n",
            "2 0 days 00:00:43.293000  \n",
            "3 0 days 00:00:43.463000  \n",
            "4 0 days 00:00:43.514000  \n"
          ]
        }
      ]
    },
    {
      "cell_type": "code",
      "source": [
        "laps_2024.dropna(inplace=True)"
      ],
      "metadata": {
        "id": "cFQxfYSbqEip"
      },
      "execution_count": 6,
      "outputs": []
    },
    {
      "cell_type": "code",
      "source": [
        "# time to sec\n",
        "for col in [\"LapTime\", \"Sector1Time\", \"Sector2Time\", \"Sector3Time\"]:\n",
        "    laps_2024[f\"{col} (s)\"] = laps_2024[col].dt.total_seconds()\n",
        "\n",
        "print(\"\\n📏 Lap and sector times in seconds (sample):\")\n",
        "print(laps_2024[[\"Driver\", \"LapTime (s)\", \"Sector1Time (s)\", \"Sector2Time (s)\", \"Sector3Time (s)\"]].head())"
      ],
      "metadata": {
        "colab": {
          "base_uri": "https://localhost:8080/"
        },
        "id": "WNvUc4q9qNBq",
        "outputId": "bb71019f-98c4-4e1f-fcab-2a1376debf83"
      },
      "execution_count": 7,
      "outputs": [
        {
          "output_type": "stream",
          "name": "stdout",
          "text": [
            "\n",
            "📏 Lap and sector times in seconds (sample):\n",
            "  Driver  LapTime (s)  Sector1Time (s)  Sector2Time (s)  Sector3Time (s)\n",
            "1    VER      100.103           26.651           30.091           43.361\n",
            "2    VER      100.494           27.011           30.190           43.293\n",
            "3    VER      100.573           26.923           30.187           43.463\n",
            "4    VER      100.919           27.106           30.299           43.514\n",
            "5    VER      101.147           27.114           30.431           43.602\n"
          ]
        }
      ]
    },
    {
      "cell_type": "code",
      "source": [
        "# avg sec time per driver\n",
        "sector_times_2024 = laps_2024.groupby(\"Driver\")[[\"Sector1Time (s)\", \"Sector2Time (s)\", \"Sector3Time (s)\"]].mean().reset_index()\n",
        "print(\"\\n📊 Average sector times per driver:\")\n",
        "print(sector_times_2024.head())"
      ],
      "metadata": {
        "colab": {
          "base_uri": "https://localhost:8080/"
        },
        "id": "beyFT2JyqQKG",
        "outputId": "d98d4358-0558-449d-d73b-9e74e07b888a"
      },
      "execution_count": 8,
      "outputs": [
        {
          "output_type": "stream",
          "name": "stdout",
          "text": [
            "\n",
            "📊 Average sector times per driver:\n",
            "  Driver  Sector1Time (s)  Sector2Time (s)  Sector3Time (s)\n",
            "0    ALB        29.195855        32.869764        47.183400\n",
            "1    ALO        28.987283        31.951038        46.439189\n",
            "2    BOT        28.427278        31.032222        44.450000\n",
            "3    GAS        29.548364        32.672455        47.085909\n",
            "4    HAM        29.151218        32.691655        47.230545\n"
          ]
        }
      ]
    },
    {
      "cell_type": "code",
      "source": [
        "# 2025 Chinese GP Qualifying Times\n",
        "qualifying_2025 = pd.DataFrame({\n",
        "    \"Driver\": [\"Oscar Piastri\", \"George Russell\", \"Lando Norris\", \"Max Verstappen\", \"Lewis Hamilton\",\n",
        "               \"Charles Leclerc\", \"Isack Hadjar\", \"Andrea Kimi Antonelli\", \"Yuki Tsunoda\", \"Alexander Albon\",\n",
        "               \"Esteban Ocon\", \"Nico Hülkenberg\", \"Fernando Alonso\", \"Lance Stroll\", \"Carlos Sainz Jr.\",\n",
        "               \"Pierre Gasly\", \"Oliver Bearman\", \"Jack Doohan\", \"Gabriel Bortoleto\", \"Liam Lawson\"],\n",
        "    \"QualifyingTime (s)\": [90.641, 90.723, 90.793, 90.817, 90.927,\n",
        "                           91.021, 91.079, 91.103, 91.638, 91.706,\n",
        "                           91.625, 91.632, 91.688, 91.773, 91.840,\n",
        "                           91.992, 92.018, 92.092, 92.141, 92.174]\n",
        "})\n",
        "\n",
        "print(\"\\n📋 2025 Qualifying Times (Chinese GP):\")\n",
        "print(qualifying_2025)"
      ],
      "metadata": {
        "colab": {
          "base_uri": "https://localhost:8080/"
        },
        "id": "QoSLE3rGqUq0",
        "outputId": "884adac0-e6f0-4e99-a0da-04c0a7096178"
      },
      "execution_count": 9,
      "outputs": [
        {
          "output_type": "stream",
          "name": "stdout",
          "text": [
            "\n",
            "📋 2025 Qualifying Times (Chinese GP):\n",
            "                   Driver  QualifyingTime (s)\n",
            "0           Oscar Piastri              90.641\n",
            "1          George Russell              90.723\n",
            "2            Lando Norris              90.793\n",
            "3          Max Verstappen              90.817\n",
            "4          Lewis Hamilton              90.927\n",
            "5         Charles Leclerc              91.021\n",
            "6            Isack Hadjar              91.079\n",
            "7   Andrea Kimi Antonelli              91.103\n",
            "8            Yuki Tsunoda              91.638\n",
            "9         Alexander Albon              91.706\n",
            "10           Esteban Ocon              91.625\n",
            "11        Nico Hülkenberg              91.632\n",
            "12        Fernando Alonso              91.688\n",
            "13           Lance Stroll              91.773\n",
            "14       Carlos Sainz Jr.              91.840\n",
            "15           Pierre Gasly              91.992\n",
            "16         Oliver Bearman              92.018\n",
            "17            Jack Doohan              92.092\n",
            "18      Gabriel Bortoleto              92.141\n",
            "19            Liam Lawson              92.174\n"
          ]
        }
      ]
    },
    {
      "cell_type": "code",
      "source": [
        "driver_mapping = {\n",
        "    \"Oscar Piastri\": \"PIA\", \"George Russell\": \"RUS\", \"Lando Norris\": \"NOR\", \"Max Verstappen\": \"VER\",\n",
        "    \"Lewis Hamilton\": \"HAM\", \"Charles Leclerc\": \"LEC\", \"Isack Hadjar\": \"HAD\", \"Andrea Kimi Antonelli\": \"ANT\",\n",
        "    \"Yuki Tsunoda\": \"TSU\", \"Alexander Albon\": \"ALB\", \"Esteban Ocon\": \"OCO\", \"Nico Hülkenberg\": \"HUL\",\n",
        "    \"Fernando Alonso\": \"ALO\", \"Lance Stroll\": \"STR\", \"Carlos Sainz Jr.\": \"SAI\", \"Pierre Gasly\": \"GAS\",\n",
        "    \"Oliver Bearman\": \"BEA\", \"Jack Doohan\": \"DOO\", \"Gabriel Bortoleto\": \"BOR\", \"Liam Lawson\": \"LAW\"\n",
        "}\n",
        "\n",
        "qualifying_2025[\"DriverCode\"] = qualifying_2025[\"Driver\"].map(driver_mapping)\n",
        "print(\"\\nDriver mapping applied:\")\n",
        "print(qualifying_2025.head())"
      ],
      "metadata": {
        "colab": {
          "base_uri": "https://localhost:8080/"
        },
        "id": "X67ls2X6qZy-",
        "outputId": "352b34bd-33d6-4af9-ab40-41f18fa9ea50"
      },
      "execution_count": 10,
      "outputs": [
        {
          "output_type": "stream",
          "name": "stdout",
          "text": [
            "\n",
            "Driver mapping applied:\n",
            "           Driver  QualifyingTime (s) DriverCode\n",
            "0   Oscar Piastri              90.641        PIA\n",
            "1  George Russell              90.723        RUS\n",
            "2    Lando Norris              90.793        NOR\n",
            "3  Max Verstappen              90.817        VER\n",
            "4  Lewis Hamilton              90.927        HAM\n"
          ]
        }
      ]
    },
    {
      "cell_type": "code",
      "source": [
        "merged_data = qualifying_2025.merge(sector_times_2024, left_on=\"DriverCode\", right_on=\"Driver\", how=\"left\")\n",
        "print(\"\\n🔗 Merged 2025 Quali + 2024 Sector data:\")\n",
        "print(merged_data.head())"
      ],
      "metadata": {
        "colab": {
          "base_uri": "https://localhost:8080/"
        },
        "id": "YXE6KkUOqeBL",
        "outputId": "c9b2885a-08f7-4b68-8ad6-a100b63598ff"
      },
      "execution_count": 11,
      "outputs": [
        {
          "output_type": "stream",
          "name": "stdout",
          "text": [
            "\n",
            "🔗 Merged 2025 Quali + 2024 Sector data:\n",
            "         Driver_x  QualifyingTime (s) DriverCode Driver_y  Sector1Time (s)  \\\n",
            "0   Oscar Piastri              90.641        PIA      PIA        28.937296   \n",
            "1  George Russell              90.723        RUS      RUS        28.795722   \n",
            "2    Lando Norris              90.793        NOR      NOR        28.553593   \n",
            "3  Max Verstappen              90.817        VER      VER        28.198173   \n",
            "4  Lewis Hamilton              90.927        HAM      HAM        29.151218   \n",
            "\n",
            "   Sector2Time (s)  Sector3Time (s)  \n",
            "0        32.519426        46.923907  \n",
            "1        32.411685        46.822019  \n",
            "2        32.451481        46.493556  \n",
            "3        31.471942        45.636635  \n",
            "4        32.691655        47.230545  \n"
          ]
        }
      ]
    },
    {
      "cell_type": "code",
      "source": [
        "# Features: Use all sector times and qualifying time\n",
        "X = merged_data[[\"QualifyingTime (s)\", \"Sector1Time (s)\", \"Sector2Time (s)\", \"Sector3Time (s)\"]].fillna(0)\n",
        "\n",
        "# Target: Average lap time per driver from 2024 Chinese GP\n",
        "y = laps_2024.groupby(\"Driver\")[\"LapTime (s)\"].mean().reset_index()[\"LapTime (s)\"]\n",
        "\n",
        "print(\"\\nFeatures (X):\")\n",
        "print(X.head())\n",
        "\n",
        "print(\"\\nTarget (y):\")\n",
        "print(y.head())"
      ],
      "metadata": {
        "colab": {
          "base_uri": "https://localhost:8080/"
        },
        "id": "f62vjkecqghu",
        "outputId": "258edca9-4ab5-4e6a-bd3a-c680cbf0d29b"
      },
      "execution_count": 12,
      "outputs": [
        {
          "output_type": "stream",
          "name": "stdout",
          "text": [
            "\n",
            "Features (X):\n",
            "   QualifyingTime (s)  Sector1Time (s)  Sector2Time (s)  Sector3Time (s)\n",
            "0              90.641        28.937296        32.519426        46.923907\n",
            "1              90.723        28.795722        32.411685        46.822019\n",
            "2              90.793        28.553593        32.451481        46.493556\n",
            "3              90.817        28.198173        31.471942        45.636635\n",
            "4              90.927        29.151218        32.691655        47.230545\n",
            "\n",
            "Target (y):\n",
            "0    109.249018\n",
            "1    107.377509\n",
            "2    103.909500\n",
            "3    109.306727\n",
            "4    109.073418\n",
            "Name: LapTime (s), dtype: float64\n"
          ]
        }
      ]
    },
    {
      "cell_type": "code",
      "source": [
        "X_train, X_test, y_train, y_test = train_test_split(X, y, test_size=0.2, random_state=38)\n",
        "\n",
        "model = GradientBoostingRegressor(n_estimators=200, learning_rate=0.1, random_state=38)\n",
        "model.fit(X_train, y_train)\n",
        "\n",
        "print(\"\\n Model trained successfully.\")"
      ],
      "metadata": {
        "colab": {
          "base_uri": "https://localhost:8080/"
        },
        "id": "Rdp2YV8TqnUp",
        "outputId": "6a4e682b-9db5-4743-c45a-bb24307547c9"
      },
      "execution_count": 13,
      "outputs": [
        {
          "output_type": "stream",
          "name": "stdout",
          "text": [
            "\n",
            " Model trained successfully.\n"
          ]
        }
      ]
    },
    {
      "cell_type": "code",
      "source": [
        "predicted_race_times = model.predict(X)\n",
        "qualifying_2025[\"PredictedRaceTime (s)\"] = predicted_race_times\n",
        "\n",
        "# Sort by predicted race time\n",
        "qualifying_2025 = qualifying_2025.sort_values(by=\"PredictedRaceTime (s)\")"
      ],
      "metadata": {
        "id": "X9rFWJGQqwyC"
      },
      "execution_count": 14,
      "outputs": []
    },
    {
      "cell_type": "code",
      "source": [
        "print(\"\\n🏁 Predicted 2025 Chinese GP Results 🏁\")\n",
        "print(qualifying_2025[[\"Driver\", \"PredictedRaceTime (s)\"]])"
      ],
      "metadata": {
        "colab": {
          "base_uri": "https://localhost:8080/"
        },
        "id": "EnXovM5Qqy1o",
        "outputId": "73f4cda7-2f45-4617-f581-669dd5eeb862"
      },
      "execution_count": 15,
      "outputs": [
        {
          "output_type": "stream",
          "name": "stdout",
          "text": [
            "\n",
            "🏁 Predicted 2025 Chinese GP Results 🏁\n",
            "                   Driver  PredictedRaceTime (s)\n",
            "2            Lando Norris             103.911242\n",
            "16         Oliver Bearman             105.768026\n",
            "10           Esteban Ocon             105.937552\n",
            "6            Isack Hadjar             106.014323\n",
            "8            Yuki Tsunoda             107.250668\n",
            "1          George Russell             107.378067\n",
            "5         Charles Leclerc             107.433970\n",
            "14       Carlos Sainz Jr.             107.987549\n",
            "13           Lance Stroll             108.029351\n",
            "11        Nico Hülkenberg             108.380663\n",
            "7   Andrea Kimi Antonelli             108.485977\n",
            "18      Gabriel Bortoleto             108.539843\n",
            "19            Liam Lawson             108.539843\n",
            "4          Lewis Hamilton             109.072694\n",
            "9         Alexander Albon             109.209534\n",
            "0           Oscar Piastri             109.248207\n",
            "3          Max Verstappen             109.305052\n",
            "15           Pierre Gasly             109.554230\n",
            "17            Jack Doohan             111.062374\n",
            "12        Fernando Alonso             114.013944\n"
          ]
        }
      ]
    },
    {
      "cell_type": "code",
      "source": [
        "y_pred = model.predict(X_test)\n",
        "mae = mean_absolute_error(y_test, y_pred)\n",
        "\n",
        "print(f\"\\n📏 Model Mean Absolute Error (MAE): {mae:.2f} seconds\")"
      ],
      "metadata": {
        "colab": {
          "base_uri": "https://localhost:8080/"
        },
        "id": "bl7gcUDdq0cj",
        "outputId": "8be33f27-5b27-4c48-fa45-ea83fb3c45a8"
      },
      "execution_count": 16,
      "outputs": [
        {
          "output_type": "stream",
          "name": "stdout",
          "text": [
            "\n",
            "📏 Model Mean Absolute Error (MAE): 1.35 seconds\n"
          ]
        }
      ]
    },
    {
      "cell_type": "code",
      "source": [],
      "metadata": {
        "id": "ifQWMpWXq4Kv"
      },
      "execution_count": 16,
      "outputs": []
    }
  ]
}